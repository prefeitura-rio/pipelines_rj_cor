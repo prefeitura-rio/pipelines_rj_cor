{
 "cells": [
  {
   "cell_type": "code",
   "execution_count": 13,
   "metadata": {},
   "outputs": [
    {
     "name": "stdout",
     "output_type": "stream",
     "text": [
      "DataFrame Original:\n",
      "                data_medicao\n",
      "0 2024-12-12 18:22:45.909620\n",
      "1 2024-12-17 18:22:45.909620\n",
      "2 2024-12-16 18:22:45.909620\n",
      "\n",
      "DataFrame Após Substituir Datas Futuras:\n",
      "                data_medicao\n",
      "0 2024-12-12 18:22:45.909620\n",
      "1 2024-12-17 18:22:45.909620\n",
      "2 2024-12-16 18:22:45.909620\n"
     ]
    }
   ],
   "source": [
    "import pandas as pd\n",
    "import numpy as np\n",
    "from datetime import datetime, timedelta\n",
    "\n",
    "log = print\n",
    "\n",
    "# Criação do DataFrame de teste com datas no futuro e no passado\n",
    "def create_test_dataframe():\n",
    "    current_datetime = datetime.now()\n",
    "\n",
    "    # Geração de datas no futuro e no passado\n",
    "    dates = [\n",
    "        current_datetime - timedelta(days=5),  # 5 dias no passado\n",
    "        current_datetime,  # Hoje\n",
    "        current_datetime + timedelta(days=2),  # 2 dias no futuro\n",
    "        current_datetime + timedelta(days=10),  # 10 dias no futuro\n",
    "        current_datetime - timedelta(days=1),  # 1 dia no passado\n",
    "    ]\n",
    "\n",
    "    # Criação do DataFrame\n",
    "    df = pd.DataFrame({\"data_medicao\": dates})\n",
    "    return df\n",
    "\n",
    "# Função replace_future_dates\n",
    "def replace_future_dates(dfr: pd.DataFrame) -> pd.DataFrame:\n",
    "    \"\"\"\n",
    "    Replaces future dates in the 'data_medicao' column with the current date if they are in the\n",
    "    future. This is done to ensure that the data is not projected into the future, but rather\n",
    "    reflects the current state.\n",
    "    \"\"\"\n",
    "    current_datetime_sp = datetime.now()\n",
    "    current_date_sp = datetime.now().date()\n",
    "    dfr_future = dfr[dfr[\"data_medicao\"] > current_datetime_sp].copy()\n",
    "\n",
    "    if dfr_future.shape[0] > 0:\n",
    "        for i in range(dfr_future.shape[0]):\n",
    "            log(f\"\\nFuture data found on API:\\n{dfr_future.iloc[i]}\\n\")\n",
    "\n",
    "        dfr[\"data_medicao\"] = dfr[\"data_medicao\"].apply(\n",
    "            lambda x: (\n",
    "                x.replace(year=current_date_sp.year, month=current_date_sp.month, day=current_date_sp.day)\n",
    "                if x.date() > current_date_sp\n",
    "                else x\n",
    "            )\n",
    "        )\n",
    "    return dfr\n",
    "\n",
    "# Testando a função\n",
    "df = create_test_dataframe()\n",
    "print(\"DataFrame Original:\")\n",
    "print(df)\n",
    "\n",
    "df[\"data_medicao\"] = pd.to_datetime(df[\"data_medicao\"])\n",
    "\n",
    "df_replaced = replace_future_dates(df)\n",
    "print(\"\\nDataFrame Após Substituir Datas Futuras:\")\n",
    "print(df_replaced)\n"
   ]
  },
  {
   "cell_type": "code",
   "execution_count": 4,
   "metadata": {},
   "outputs": [
    {
     "data": {
      "text/plain": [
       "data_medicao    datetime64[ns]\n",
       "dtype: object"
      ]
     },
     "execution_count": 4,
     "metadata": {},
     "output_type": "execute_result"
    }
   ],
   "source": [
    "df.dtypes"
   ]
  }
 ],
 "metadata": {
  "kernelspec": {
   "display_name": "esc_venv",
   "language": "python",
   "name": "python3"
  },
  "language_info": {
   "codemirror_mode": {
    "name": "ipython",
    "version": 3
   },
   "file_extension": ".py",
   "mimetype": "text/x-python",
   "name": "python",
   "nbconvert_exporter": "python",
   "pygments_lexer": "ipython3",
   "version": "3.9.12"
  }
 },
 "nbformat": 4,
 "nbformat_minor": 2
}
